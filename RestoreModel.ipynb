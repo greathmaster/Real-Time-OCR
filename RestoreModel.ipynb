{
 "cells": [
  {
   "cell_type": "code",
   "execution_count": 12,
   "metadata": {
    "scrolled": true
   },
   "outputs": [
    {
     "name": "stdout",
     "output_type": "stream",
     "text": [
      "Extracting /tmp/data/train-images-idx3-ubyte.gz\n",
      "Extracting /tmp/data/train-labels-idx1-ubyte.gz\n",
      "Extracting /tmp/data/t10k-images-idx3-ubyte.gz\n",
      "Extracting /tmp/data/t10k-labels-idx1-ubyte.gz\n",
      "INFO:tensorflow:Restoring parameters from \\MyModel\\CNNModel\n"
     ]
    },
    {
     "data": {
      "image/png": "[encoded data removed]",
      "text/plain": [
       "<matplotlib.figure.Figure at 0x113a8320>"
      ]
     },
     "metadata": {},
     "output_type": "display_data"
    },
    {
     "data": {
      "image/png": "[encoded data removed]",
      "text/plain": [
       "<matplotlib.figure.Figure at 0x14381320>"
      ]
     },
     "metadata": {},
     "output_type": "display_data"
    },
    {
     "data": {
      "text/plain": [
       "\"\\nvideo = cv2.VideoCapture(0)\\nwhile(True):\\n    ret, frame = video.read()   \\n    \\n    cv2.imshow('test', frame)\\n    cv2.waitKey(5)\\n\\n\""
      ]
     },
     "execution_count": 12,
     "metadata": {},
     "output_type": "execute_result"
    }
   ],
   "source": [
    "import numpy as np\n",
    "import tensorflow as tf\n",
    "import matplotlib.pyplot as plt\n",
    "import cv2\n",
    "from tensorflow.examples.tutorials.mnist import input_data\n",
    "from ConvertToMNIST import clusterImage\n",
    "\n",
    "mnist = input_data.read_data_sets(\"/tmp/data/\", one_hot=True)\n",
    "sess=tf.Session()    \n",
    "saver = tf.train.import_meta_graph('C:\\\\MyModel\\\\CNNModel.meta')\n",
    "saver.restore(sess,tf.train.latest_checkpoint('C:\\\\MyModel'))\n",
    "\n",
    "graph = tf.get_default_graph()\n",
    "training_data = graph.get_tensor_by_name(\"training_data:0\")\n",
    "training_labels = graph.get_tensor_by_name(\"training_labels:0\")\n",
    "keep_prob = graph.get_tensor_by_name(\"keep_prob:0\")\n",
    "\n",
    "predict = graph.get_tensor_by_name(\"predicted_number:0\")\n",
    "\n",
    "originalimg = cv2.imread(\"Seven.jpg\")\n",
    "resize = cv2.resize(originalimg, dsize =(28, 28))\n",
    "\n",
    "temp = clusterImage(resize, 2)\n",
    "gray = cv2.cvtColor(temp, cv2.COLOR_BGR2GRAY)\n",
    "average = cv2.mean(gray)\n",
    "if(gray[0][0] < average[0]):\n",
    "    gray = 255 - gray\n",
    "_,thres = cv2.threshold(gray, 255-average[0], 0, 2)\n",
    "\n",
    "nump = np.asarray(thres, np.float32)\n",
    "nump = 255 -nump\n",
    "nump = (nump -np.min(nump))/(np.max(nump) - np.min(nump))\n",
    "\n",
    "plt.imshow(nump, cmap = 'gray')\n",
    "plt.show()\n",
    "plt.imshow(mnist.test.images[0].reshape(28, 28), cmap = 'gray')\n",
    "plt.show()\n",
    "'''\n",
    "video = cv2.VideoCapture(0)\n",
    "while(True):\n",
    "    ret, frame = video.read()   \n",
    "    \n",
    "    cv2.imshow('test', frame)\n",
    "    cv2.waitKey(5)\n",
    "\n",
    "'''"
   ]
  },
  {
   "cell_type": "raw",
   "metadata": {
    "collapsed": true
   },
   "source": []
  },
  {
   "cell_type": "code",
   "execution_count": null,
   "metadata": {
    "collapsed": true
   },
   "outputs": [],
   "source": []
  }
 ],
 "metadata": {
  "kernelspec": {
   "display_name": "Python 3",
   "language": "python",
   "name": "python3"
  },
  "language_info": {
   "codemirror_mode": {
    "name": "ipython",
    "version": 3
   },
   "file_extension": ".py",
   "mimetype": "text/x-python",
   "name": "python",
   "nbconvert_exporter": "python",
   "pygments_lexer": "ipython3",
   "version": "3.6.1"
  }
 },
 "nbformat": 4,
 "nbformat_minor": 2
}
