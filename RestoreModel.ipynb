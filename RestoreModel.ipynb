{
 "cells": [
  {
   "cell_type": "code",
   "execution_count": 7,
   "metadata": {
    "scrolled": true
   },
   "outputs": [
    {
     "name": "stdout",
     "output_type": "stream",
     "text": [
      "Extracting /tmp/data/train-images-idx3-ubyte.gz\n",
      "Extracting /tmp/data/train-labels-idx1-ubyte.gz\n",
      "Extracting /tmp/data/t10k-images-idx3-ubyte.gz\n",
      "Extracting /tmp/data/t10k-labels-idx1-ubyte.gz\n",
      "INFO:tensorflow:Restoring parameters from \\MyModel\\CNNModel\n",
      "[[143 143 143 144 146 148 141 137 140 149 148 141 141 141 142 142 143 143\n",
      "  144 142 140 140 143 143 142 142 142 142]\n",
      " [144 145 145 146 149 152 143 139 138 143 140 132 131 135 141 135 135 140\n",
      "  138 138 136 136 145 148 143 142 142 142]\n",
      " [145 142 139 137 144 146 141 138 140 150 151 143 144 151 158 145 142 143\n",
      "  144 138 138 133 140 141 141 142 142 142]\n",
      " [147 147 135 133 139 136 147 152 148 122 117 138 131 136 137 128 124 137\n",
      "  138 141 158 159 138 134 140 139 139 139]\n",
      " [140 137 145 145 144 141 132 135 137  39  32  32  22  26  26  27  31  25\n",
      "   34  74 133 135 149 142 139 141 141 142]\n",
      " [142 142 135 134 138 143  52  26  27  19  20  22  20  24  25  23  23  21\n",
      "   18  20  21  24 149 149 132 136 134 135]\n",
      " [137 139 144 146  34  23  23  27  26  21  23 129 137 136 138 140 138  67\n",
      "   15  15  16  18  23  23 137 150 149 149]\n",
      " [138 136 148 145  34  26  25  24  32 132 139 148 129 128 130 144 149 121\n",
      "  107  74  21  20  24  26 122 136 142 147]\n",
      " [136 136 148 146  34  30  27  22  31 155 154 142 140 127 125 145 150 136\n",
      "  129  88  25  22  27  29 120 129 140 147]\n",
      " [154 154 132 130 137 134 154 158 157 143 146 142 141 141 140 139 138 148\n",
      "  159 100  17  16  28  27 119 131 133 136]\n",
      " [145 144 141 144 163 166 135 126 129 124 127 134 136 138 138 140 142 139\n",
      "  132  90  19  21  24  22 133 157 142 132]\n",
      " [140 141 150 153 131 131 132 133 133 160 158 145 147 143 143 138 137  65\n",
      "   17  17  22  23  25  21 116 124 143 156]\n",
      " [137 137 137 136 141 142 143 144 142 130 135  25  22  17  18  12  11   5\n",
      "   14  11  12  10 149 150 144 151 151 147]\n",
      " [148 147 129 129 145 148 139 135 136 148 146  32  30  23  25  14  11  15\n",
      "    8  12  10  10 136 136 134 137 137 137]\n",
      " [155 153 133 135 141 142 148 153 152 148 147 132 139 138 140 139 140  64\n",
      "    8  15  15  12 141 144 136 137 136 137]\n",
      " [154 149 141 136 143 142 150 154 150 142 141 139 140 139 141 142 141  67\n",
      "   16  17  18  11 146 144 136 139 138 138]\n",
      " [128 127 146 146 147 146 140 135 134 141 139 145 140 139 138 140 141 143\n",
      "  145  97  20  18  29  23 119 138 139 139]\n",
      " [133 133 145 147 140 139 143 147 147 145 149 130 136 147 158 142 141 138\n",
      "  133  98  34  28  27  27 125 139 139 139]\n",
      " [140 142 146 149 151 154 130 119 127 131 138 140 142 136 131 136 135 138\n",
      "  146 100  27  25  30  25 123 138 138 138]\n",
      " [142 143 136 134  29  20  21  25  32 148 143 139 139 143 144 151 154 150\n",
      "  147 101  24  27  26  20 124 143 143 143]\n",
      " [142 142 138 136  23  17  19  19  20 136 139 135 137 149 154 125 117 124\n",
      "  128  86  20  18  33  27 123 142 141 141]\n",
      " [134 133 128 127 153 157  50  16  16  25  29 131 129 149 142 148 152  69\n",
      "   13  15  17  20 135 129 135 142 140 140]\n",
      " [142 143 133 130 146 144  48  21  18  20  19  86  86  88  89  91  92  47\n",
      "   17  15  16  18 136 140 142 142 141 141]\n",
      " [150 148 143 141 140 137  68  44  44  21  27  27  23  21  21  20  22  30\n",
      "   29  23  39  36 130 147 142 142 143 143]\n",
      " [135 136 141 142 142 140 134 130 126  40  35  31  28  28  29  31  31 100\n",
      "  135 142 147 140 140 140 140 140 140 140]\n",
      " [153 154 143 141 145 143 155 161 159 129 129 139 141 143 146 138 134 137\n",
      "  140 137 142 139 139 139 139 140 141 141]\n",
      " [144 141 136 134 137 138 133 134 131 143 145 137 143 154 152 146 137 141\n",
      "  140 141 142 143 143 143 144 144 144 144]\n",
      " [143 144 144 144 155 155 141 137 135 147 146 129 127 141 138 141 142 141\n",
      "  140 141 142 143 143 143 144 144 144 144]]\n",
      "112.99489795918367\n"
     ]
    },
    {
     "data": {
      "image/png": "[encoded data removed]",
      "text/plain": [
       "<matplotlib.figure.Figure at 0xc144d68>"
      ]
     },
     "metadata": {},
     "output_type": "display_data"
    },
    {
     "data": {
      "image/png": "[encoded data removed]",
      "text/plain": [
       "<matplotlib.figure.Figure at 0xd83e748>"
      ]
     },
     "metadata": {},
     "output_type": "display_data"
    },
    {
     "name": "stdout",
     "output_type": "stream",
     "text": [
      "[3]\n"
     ]
    },
    {
     "data": {
      "text/plain": [
       "\"\\nvideo = cv2.VideoCapture(0)\\nwhile(True):\\n    ret, frame = video.read()   \\n    \\n    cv2.imshow('test', frame)\\n    cv2.waitKey(5)\\n\\n\""
      ]
     },
     "execution_count": 7,
     "metadata": {},
     "output_type": "execute_result"
    }
   ],
   "source": [
    "import numpy as np\n",
    "import tensorflow as tf\n",
    "import matplotlib.pyplot as plt\n",
    "import cv2\n",
    "from tensorflow.examples.tutorials.mnist import input_data\n",
    "\n",
    "mnist = input_data.read_data_sets(\"/tmp/data/\", one_hot=True)\n",
    "sess=tf.Session()    \n",
    "saver = tf.train.import_meta_graph('C:\\\\MyModel\\\\CNNModel.meta')\n",
    "saver.restore(sess,tf.train.latest_checkpoint('C:\\\\MyModel'))\n",
    "\n",
    "graph = tf.get_default_graph()\n",
    "training_data = graph.get_tensor_by_name(\"training_data:0\")\n",
    "training_labels = graph.get_tensor_by_name(\"training_labels:0\")\n",
    "keep_prob = graph.get_tensor_by_name(\"keep_prob:0\")\n",
    "\n",
    "predict = graph.get_tensor_by_name(\"predicted_number:0\")\n",
    "\n",
    "originalimg = cv2.imread(\"Three.jpg\")\n",
    "resize = cv2.resize(originalimg, dsize =(28, 28))\n",
    "gray = cv2.cvtColor(resize, cv2.COLOR_BGR2GRAY)\n",
    "print(gray)\n",
    "average = cv2.mean(gray)\n",
    "if(gray[0][0] < average[0]):\n",
    "    gray = 255 - gray\n",
    "_,thres = cv2.threshold(gray, 255-average[0], 0, 2)\n",
    "print(average[0])\n",
    "nump = np.asarray(thres, np.float32)\n",
    "nump = 255 - nump\n",
    "nump = (nump -np.min(nump))/(np.max(nump) - np.min(nump))\n",
    "plt.imshow(nump, cmap = 'gray')\n",
    "plt.show()\n",
    "plt.imshow(mnist.test.images[0].reshape(28, 28), cmap = 'gray')\n",
    "plt.show()\n",
    "\n",
    "prediction = sess.run(predict, feed_dict ={training_data: [nump.flatten()] ,training_labels: [[0,0,0,0,0,0,0,0,0,1]], keep_prob: 1})\n",
    "print(prediction)\n",
    "\n",
    "'''\n",
    "video = cv2.VideoCapture(0)\n",
    "while(True):\n",
    "    ret, frame = video.read()   \n",
    "    \n",
    "    cv2.imshow('test', frame)\n",
    "    cv2.waitKey(5)\n",
    "\n",
    "'''\n"
   ]
  },
  {
   "cell_type": "raw",
   "metadata": {
    "collapsed": true
   },
   "source": []
  },
  {
   "cell_type": "code",
   "execution_count": null,
   "metadata": {
    "collapsed": true
   },
   "outputs": [],
   "source": []
  }
 ],
 "metadata": {
  "kernelspec": {
   "display_name": "Python 3",
   "language": "python",
   "name": "python3"
  },
  "language_info": {
   "codemirror_mode": {
    "name": "ipython",
    "version": 3
   },
   "file_extension": ".py",
   "mimetype": "text/x-python",
   "name": "python",
   "nbconvert_exporter": "python",
   "pygments_lexer": "ipython3",
   "version": "3.6.1"
  }
 },
 "nbformat": 4,
 "nbformat_minor": 2
}
