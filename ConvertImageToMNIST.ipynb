{
 "cells": [
  {
   "cell_type": "code",
   "execution_count": 1,
   "metadata": {},
   "outputs": [
    {
     "name": "stdout",
     "output_type": "stream",
     "text": [
      "[[[ 7  1 18]\n",
      "  [ 7  1 18]\n",
      "  [ 4  1 17]\n",
      "  ..., \n",
      "  [ 5  0 16]\n",
      "  [ 8  1 16]\n",
      "  [ 8  0 12]]\n",
      "\n",
      " [[ 7  1 18]\n",
      "  [ 7  1 18]\n",
      "  [ 4  1 17]\n",
      "  ..., \n",
      "  [ 5  0 16]\n",
      "  [ 8  1 16]\n",
      "  [ 8  0 12]]\n",
      "\n",
      " [[ 7  1 20]\n",
      "  [ 7  1 20]\n",
      "  [ 5  1 20]\n",
      "  ..., \n",
      "  [ 5  0 16]\n",
      "  [ 8  1 16]\n",
      "  [ 6  0 12]]\n",
      "\n",
      " ..., \n",
      " [[ 0  5 14]\n",
      "  [ 1  6 15]\n",
      "  [ 2  5 13]\n",
      "  ..., \n",
      "  [ 4  2 22]\n",
      "  [ 3  2 22]\n",
      "  [ 0  1 21]]\n",
      "\n",
      " [[ 2  8 15]\n",
      "  [ 1  7 14]\n",
      "  [ 2  5 13]\n",
      "  ..., \n",
      "  [ 4  2 21]\n",
      "  [ 2  2 20]\n",
      "  [ 0  1 19]]\n",
      "\n",
      " [[ 2  8 15]\n",
      "  [ 1  7 14]\n",
      "  [ 1  5 10]\n",
      "  ..., \n",
      "  [ 3  1 20]\n",
      "  [ 2  2 20]\n",
      "  [ 0  1 19]]]\n"
     ]
    }
   ],
   "source": [
    "import numpy as np\n",
    "import tensorflow as tf\n",
    "import cv2\n",
    "import matplotlib.pyplot as plt\n",
    "\n",
    "image = cv2.imread(\"Seven.jpg\")\n",
    "print(image)"
   ]
  },
  {
   "cell_type": "code",
   "execution_count": null,
   "metadata": {
    "collapsed": true
   },
   "outputs": [],
   "source": []
  }
 ],
 "metadata": {
  "kernelspec": {
   "display_name": "Python 3",
   "language": "python",
   "name": "python3"
  },
  "language_info": {
   "codemirror_mode": {
    "name": "ipython",
    "version": 3
   },
   "file_extension": ".py",
   "mimetype": "text/x-python",
   "name": "python",
   "nbconvert_exporter": "python",
   "pygments_lexer": "ipython3",
   "version": "3.6.1"
  }
 },
 "nbformat": 4,
 "nbformat_minor": 2
}
